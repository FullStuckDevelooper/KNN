{
  "nbformat": 4,
  "nbformat_minor": 0,
  "metadata": {
    "colab": {
      "name": "Untitled2.ipynb",
      "provenance": [],
      "authorship_tag": "ABX9TyNhkXzGEax9xOfwhyLyFoVi",
      "include_colab_link": true
    },
    "kernelspec": {
      "name": "python3",
      "display_name": "Python 3"
    }
  },
  "cells": [
    {
      "cell_type": "markdown",
      "metadata": {
        "id": "view-in-github",
        "colab_type": "text"
      },
      "source": [
        "<a href=\"https://colab.research.google.com/github/FullStuckDevelooper/KNN/blob/main/Untitled2.ipynb\" target=\"_parent\"><img src=\"https://colab.research.google.com/assets/colab-badge.svg\" alt=\"Open In Colab\"/></a>"
      ]
    },
    {
      "cell_type": "code",
      "metadata": {
        "id": "cFhsGxard2Wi"
      },
      "source": [
        "data_train = 'https://raw.githubusercontent.com/FullStuckDevelooper/KNN/main/datatrain.csv'\r\n",
        "data_test = 'https://raw.githubusercontent.com/FullStuckDevelooper/KNN/main/datatest.csv'"
      ],
      "execution_count": 87,
      "outputs": []
    },
    {
      "cell_type": "code",
      "metadata": {
        "id": "Dxr1qmyieAo1"
      },
      "source": [
        "#imports\r\n",
        "import numpy as np\r\n",
        "import pandas as pd\r\n",
        "import matplotlib.pyplot as plt\r\n",
        "from sklearn.neighbors import KNeighborsClassifier\r\n",
        "import seaborn as sns\r\n",
        "from sklearn.neighbors import KNeighborsClassifier\r\n",
        "from sklearn.metrics import accuracy_score\r\n",
        "from sklearn.model_selection import train_test_split\r\n",
        "from sklearn.linear_model import LogisticRegression"
      ],
      "execution_count": 88,
      "outputs": []
    },
    {
      "cell_type": "code",
      "metadata": {
        "colab": {
          "base_uri": "https://localhost:8080/"
        },
        "id": "7JC0QWtOeCZL",
        "outputId": "4480a854-a174-48bd-cd78-f2b953258bc2"
      },
      "source": [
        "df = pd.read_csv(data_train)\r\n",
        "len(df)"
      ],
      "execution_count": 89,
      "outputs": [
        {
          "output_type": "execute_result",
          "data": {
            "text/plain": [
              "997"
            ]
          },
          "metadata": {
            "tags": []
          },
          "execution_count": 89
        }
      ]
    },
    {
      "cell_type": "code",
      "metadata": {
        "colab": {
          "base_uri": "https://localhost:8080/"
        },
        "id": "JC4nfvMUmPwC",
        "outputId": "f4c2a62f-1880-4c35-af70-9f9811c9c630"
      },
      "source": [
        "df = df.drop(columns = ['Districts', 'Monthregister'])\r\n",
        "print('workclass\\n',set(df.Fund))\r\n",
        "print('workclass\\n',set(df.Rangeincome))\r\n",
        "print('workclass\\n',set(df.Department))"
      ],
      "execution_count": 90,
      "outputs": [
        {
          "output_type": "stream",
          "text": [
            "workclass\n",
            " {'WALI', 'BEKERJA SENDIRI', 'BEASISWA', 'ORANG TUA', 'TUGAS BELAJAR'}\n",
            "workclass\n",
            " {'1.000.001 - 1.500.000', '> 5.000.000', '1.500.001 - 2.000.000', '500.001 - 1.000.000', '3.000.001 - 5.000.000', '< 500.000', '2.000.001 - 3.000.000'}\n",
            "workclass\n",
            " {'SMA-IPS', 'STM-MESIN', 'STM-PEMBANGUNAN', 'SPK KEPERAWATAN', 'SMK KESJ. MASYARAKAT', 'STM-KIMIA', 'SPP-PERTANIAN', 'STM-LISTRIK', 'MA AGAMA', 'SMK PARIWISATA', 'SMK PERTANIAN', 'SPP-SMF', 'SMK TEKNIK INDUSTRI', 'SMA AGAMA', 'SMK-PERHOTELAN', 'SMK-MEKANIK', 'STM ELEKTRONIKA', 'SMKI/SMIK', 'SMKA', 'SMK BISNIS MANAJEMEN', 'STM-SIPIL', 'MA IPS', 'MA IPA', 'STM-PERIKANAN', 'SMK Perkantoran', 'SMEA', 'PAKET C', 'SMK INFORMATIKA', 'SMK AKUNTANSI', 'SMA-IPA', 'SM ANALIS KESEHATAN', 'SMA-BAHASA'}\n"
          ],
          "name": "stdout"
        }
      ]
    },
    {
      "cell_type": "code",
      "metadata": {
        "colab": {
          "base_uri": "https://localhost:8080/",
          "height": 204
        },
        "id": "okta2-5xmItq",
        "outputId": "a12bbbe7-2f09-4b68-a8f4-05d8afef5eae"
      },
      "source": [
        "fund_mapping_values = {\"BEASISWA\": 0, \"WALI\": 1, \"ORANG TUA\": 2, \"TUGAS BELAJAR\": 3, \"BEKERJA SENDIRI\": 4 }\r\n",
        "df.replace({\"Fund\":fund_mapping_values}, inplace=True)\r\n",
        "\r\n",
        "rangeincome_mapping_values = {\"< 500.000\": 0, \"500.001 - 1.000.000\": 1, \"1.000.001 - 1.500.000\": 2, \"1.500.001 - 2.000.000\": 3, \"2.000.001 - 3.000.000\": 4, \"3.000.001 - 5.000.000\": 5, \"> 5.000.000\": 6 }\r\n",
        "df.replace({\"Rangeincome\":rangeincome_mapping_values}, inplace=True)\r\n",
        "\r\n",
        "department_mapping_values = {\"SMA-IPS\":0, \"STM-MESIN\":1, \"STM-PEMBANGUNAN\":2, \"SPK KEPERAWATAN\":3, \"SMK KESJ. MASYARAKAT\":4, \"STM-KIMIA\":5, \"SPP-PERTANIAN\":6, \"STM-LISTRIK\":7, \"MA AGAMA\":8, \"SMK PARIWISATA\":9, \"SMK PERTANIAN\":10, \"SPP-SMF\":11, \"SMK TEKNIK INDUSTRI\":12, \"SMA AGAMA\":13, \"SMK-PERHOTELAN\":14, \"SMK-MEKANIK\":15, \r\n",
        "                             \"STM ELEKTRONIKA\":16, \"SMKI/SMIK\":17, \"SMKA\":18, \"SMK BISNIS MANAJEMEN\":19, \"STM-SIPIL\":20, \"MA IPS\":21, \"MA IPA\":22, \"STM-PERIKANAN\":23, \"SMK Perkantoran\":24, \"SMEA\":25, \"PAKET C\":26, \"SMK INFORMATIKA\":27, \"SMK AKUNTANSI\":28, \"SMA-IPA\":29, \"SM ANALIS KESEHATAN\":30, \"SMA-BAHASA\":31}\r\n",
        "df.replace({\"Department\":department_mapping_values}, inplace=True)\r\n",
        "\r\n",
        "df.Register = np.where(df.Register == 'Y',1,0)\r\n",
        "df.head()"
      ],
      "execution_count": 91,
      "outputs": [
        {
          "output_type": "execute_result",
          "data": {
            "text/html": [
              "<div>\n",
              "<style scoped>\n",
              "    .dataframe tbody tr th:only-of-type {\n",
              "        vertical-align: middle;\n",
              "    }\n",
              "\n",
              "    .dataframe tbody tr th {\n",
              "        vertical-align: top;\n",
              "    }\n",
              "\n",
              "    .dataframe thead th {\n",
              "        text-align: right;\n",
              "    }\n",
              "</style>\n",
              "<table border=\"1\" class=\"dataframe\">\n",
              "  <thead>\n",
              "    <tr style=\"text-align: right;\">\n",
              "      <th></th>\n",
              "      <th>Department</th>\n",
              "      <th>Fund</th>\n",
              "      <th>Rangeincome</th>\n",
              "      <th>Register</th>\n",
              "    </tr>\n",
              "  </thead>\n",
              "  <tbody>\n",
              "    <tr>\n",
              "      <th>0</th>\n",
              "      <td>0</td>\n",
              "      <td>2</td>\n",
              "      <td>6</td>\n",
              "      <td>1</td>\n",
              "    </tr>\n",
              "    <tr>\n",
              "      <th>1</th>\n",
              "      <td>28</td>\n",
              "      <td>2</td>\n",
              "      <td>3</td>\n",
              "      <td>1</td>\n",
              "    </tr>\n",
              "    <tr>\n",
              "      <th>2</th>\n",
              "      <td>0</td>\n",
              "      <td>2</td>\n",
              "      <td>3</td>\n",
              "      <td>1</td>\n",
              "    </tr>\n",
              "    <tr>\n",
              "      <th>3</th>\n",
              "      <td>0</td>\n",
              "      <td>2</td>\n",
              "      <td>5</td>\n",
              "      <td>0</td>\n",
              "    </tr>\n",
              "    <tr>\n",
              "      <th>4</th>\n",
              "      <td>29</td>\n",
              "      <td>2</td>\n",
              "      <td>5</td>\n",
              "      <td>1</td>\n",
              "    </tr>\n",
              "  </tbody>\n",
              "</table>\n",
              "</div>"
            ],
            "text/plain": [
              "   Department  Fund  Rangeincome  Register\n",
              "0           0     2            6         1\n",
              "1          28     2            3         1\n",
              "2           0     2            3         1\n",
              "3           0     2            5         0\n",
              "4          29     2            5         1"
            ]
          },
          "metadata": {
            "tags": []
          },
          "execution_count": 91
        }
      ]
    },
    {
      "cell_type": "code",
      "metadata": {
        "id": "nvwK-wmzo7XS"
      },
      "source": [
        "x = df.drop(\"Register\", axis=1)\r\n",
        "y = df[\"Register\"]\r\n",
        "\r\n",
        "x_train, x_test, y_train, y_test = train_test_split(x,y, test_size = 0.2, random_state = 42)\r\n",
        "\r\n",
        "x_train = x_train.T\r\n",
        "y_train = y_train.T\r\n",
        "x_test = x_test.T\r\n",
        "y_test = y_test.T"
      ],
      "execution_count": 92,
      "outputs": []
    },
    {
      "cell_type": "code",
      "metadata": {
        "colab": {
          "base_uri": "https://localhost:8080/"
        },
        "id": "ycz4yhwmpTsF",
        "outputId": "d9e29d59-2cc2-4a27-9cc5-9eb58992ed7d"
      },
      "source": [
        "from sklearn.model_selection import GridSearchCV\r\n",
        "\r\n",
        "grid_params = {\r\n",
        "\t'n_neighbors':[3,5,11,19],\r\n",
        "\t'weights': ['uniform', 'distance'],\r\n",
        "\t'metric' : ['euclidean','manhattan']\r\n",
        "\r\n",
        "}\r\n",
        "\r\n",
        "gs = GridSearchCV(\r\n",
        "    KNeighborsClassifier(),\r\n",
        "    grid_params,\r\n",
        "    verbose=1,\r\n",
        "    cv=3,\r\n",
        "    n_jobs= -1\r\n",
        ")\r\n",
        "gs_result = gs.fit(x_train.T, y_train.T)\r\n",
        "gs_result.best_score_"
      ],
      "execution_count": 93,
      "outputs": [
        {
          "output_type": "stream",
          "text": [
            "Fitting 3 folds for each of 16 candidates, totalling 48 fits\n"
          ],
          "name": "stdout"
        },
        {
          "output_type": "stream",
          "text": [
            "[Parallel(n_jobs=-1)]: Using backend LokyBackend with 2 concurrent workers.\n",
            "[Parallel(n_jobs=-1)]: Done  48 out of  48 | elapsed:    0.4s finished\n"
          ],
          "name": "stderr"
        },
        {
          "output_type": "execute_result",
          "data": {
            "text/plain": [
              "0.555884995507637"
            ]
          },
          "metadata": {
            "tags": []
          },
          "execution_count": 93
        }
      ]
    },
    {
      "cell_type": "code",
      "metadata": {
        "colab": {
          "base_uri": "https://localhost:8080/"
        },
        "id": "bTXEkzlgo-8J",
        "outputId": "37a729fe-6f16-46fd-f70c-52ba79731b50"
      },
      "source": [
        "from sklearn.neighbors import KNeighborsClassifier\r\n",
        "knn = KNeighborsClassifier(n_neighbors = 2)  # n_neighbors means k\r\n",
        "knn.fit(x_train.T, y_train.T)\r\n",
        "prediction = knn.predict(x_test.T)\r\n",
        "\r\n",
        "print(\"{} NN Score: {:.2f}%\".format(2, knn.score(x_test.T, y_test.T)*100))"
      ],
      "execution_count": 94,
      "outputs": [
        {
          "output_type": "stream",
          "text": [
            "2 NN Score: 55.00%\n"
          ],
          "name": "stdout"
        }
      ]
    },
    {
      "cell_type": "code",
      "metadata": {
        "colab": {
          "base_uri": "https://localhost:8080/",
          "height": 296
        },
        "id": "7kPN8e2xpFsu",
        "outputId": "a50ca498-ee59-410b-ff4a-2d1fead0383f"
      },
      "source": [
        "scoreList = []\r\n",
        "accuracies = {}\r\n",
        "for i in range(1,20):\r\n",
        "    knn2 = KNeighborsClassifier(n_neighbors = i)  # n_neighbors means k\r\n",
        "    knn2.fit(x_train.T, y_train.T)\r\n",
        "    scoreList.append(knn2.score(x_test.T, y_test.T))\r\n",
        "    \r\n",
        "plt.plot(range(1,20), scoreList)\r\n",
        "plt.xticks(np.arange(1,20,1))\r\n",
        "plt.xlabel(\"K value\")\r\n",
        "plt.ylabel(\"Score\")\r\n",
        "plt.show()\r\n",
        "\r\n",
        "acc = max(scoreList)*100\r\n",
        "accuracies['KNN'] = acc\r\n",
        "print(\"Maximum KNN Score is {:.2f}%\".format(acc))"
      ],
      "execution_count": 95,
      "outputs": [
        {
          "output_type": "display_data",
          "data": {
            "image/png": "[encoded data removed]",
            "text/plain": [
              "<Figure size 432x288 with 1 Axes>"
            ]
          },
          "metadata": {
            "tags": [],
            "needs_background": "light"
          }
        },
        {
          "output_type": "stream",
          "text": [
            "Maximum KNN Score is 59.00%\n"
          ],
          "name": "stdout"
        }
      ]
    }
  ]
}