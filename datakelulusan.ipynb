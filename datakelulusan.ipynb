{
  "nbformat": 4,
  "nbformat_minor": 0,
  "metadata": {
    "colab": {
      "name": "datakelulusan.ipynb",
      "provenance": [],
      "authorship_tag": "ABX9TyMQQqDa+5Jw7tLAo82uzu/1",
      "include_colab_link": true
    },
    "kernelspec": {
      "name": "python3",
      "display_name": "Python 3"
    }
  },
  "cells": [
    {
      "cell_type": "markdown",
      "metadata": {
        "id": "view-in-github",
        "colab_type": "text"
      },
      "source": [
        "<a href=\"https://colab.research.google.com/github/FullStuckDevelooper/KNN/blob/main/datakelulusan.ipynb\" target=\"_parent\"><img src=\"https://colab.research.google.com/assets/colab-badge.svg\" alt=\"Open In Colab\"/></a>"
      ]
    },
    {
      "cell_type": "markdown",
      "metadata": {
        "id": "TOD6SyS43qsp"
      },
      "source": [
        "# Load Libary Yang di Butuhkan\n",
        "\n",
        "\n",
        "\n"
      ]
    },
    {
      "cell_type": "code",
      "metadata": {
        "id": "R-GZTQFadQZ5"
      },
      "source": [
        "import pandas as pd\n",
        "from sklearn.tree import DecisionTreeClassifier\n",
        "from sklearn.model_selection import GridSearchCV\n",
        "from sklearn.tree import export_graphviz\n",
        "from IPython.display import Image\n",
        "import numpy as np\n",
        "import pydotplus\n",
        "import matplotlib.pyplot as plt\n",
        "df = pd.read_excel(\"datakelulusanmahasiswa.xls\")"
      ],
      "execution_count": 78,
      "outputs": []
    },
    {
      "cell_type": "markdown",
      "metadata": {
        "id": "ccO0BTyw4PFp"
      },
      "source": [
        "# Cek Info Dari Dataset"
      ]
    },
    {
      "cell_type": "code",
      "metadata": {
        "id": "Nm_cqOQEdYIf",
        "colab": {
          "base_uri": "https://localhost:8080/"
        },
        "outputId": "370929a7-2a2d-4667-95d7-e066d6cc9edd"
      },
      "source": [
        "df.info()"
      ],
      "execution_count": 79,
      "outputs": [
        {
          "output_type": "stream",
          "text": [
            "<class 'pandas.core.frame.DataFrame'>\n",
            "RangeIndex: 379 entries, 0 to 378\n",
            "Data columns (total 15 columns):\n",
            " #   Column            Non-Null Count  Dtype  \n",
            "---  ------            --------------  -----  \n",
            " 0   NAMA              379 non-null    object \n",
            " 1   JENIS KELAMIN     379 non-null    object \n",
            " 2   STATUS MAHASISWA  379 non-null    object \n",
            " 3   UMUR              379 non-null    int64  \n",
            " 4   STATUS NIKAH      379 non-null    object \n",
            " 5   IPS 1             379 non-null    float64\n",
            " 6   IPS 2             379 non-null    float64\n",
            " 7   IPS 3             379 non-null    float64\n",
            " 8   IPS 4             379 non-null    float64\n",
            " 9   IPS 5             379 non-null    float64\n",
            " 10  IPS 6             379 non-null    float64\n",
            " 11  IPS 7             379 non-null    float64\n",
            " 12  IPS 8             379 non-null    float64\n",
            " 13  IPK               379 non-null    float64\n",
            " 14  STATUS KELULUSAN  379 non-null    object \n",
            "dtypes: float64(9), int64(1), object(5)\n",
            "memory usage: 44.5+ KB\n"
          ],
          "name": "stdout"
        }
      ]
    },
    {
      "cell_type": "markdown",
      "metadata": {
        "id": "NAnVDSpY4YLh"
      },
      "source": [
        " >Membersihkan Data yang tidak dibutuhkan \n",
        "\n",
        "---\n",
        "\n"
      ]
    },
    {
      "cell_type": "code",
      "metadata": {
        "id": "FJr5hJ5keNkA"
      },
      "source": [
        "df.drop(['NAMA'] , axis=1, inplace=True)"
      ],
      "execution_count": 80,
      "outputs": []
    },
    {
      "cell_type": "markdown",
      "metadata": {
        "id": "kc-_Gmty425r"
      },
      "source": [
        ">Cek Apakah Ada Data Kosong\n",
        "\n",
        "\n",
        "---"
      ]
    },
    {
      "cell_type": "code",
      "metadata": {
        "id": "hEdEdcXnkNjS",
        "colab": {
          "base_uri": "https://localhost:8080/"
        },
        "outputId": "3e682f8e-7265-4ab7-e768-4a7ce443d714"
      },
      "source": [
        "df.isnull().sum()"
      ],
      "execution_count": 81,
      "outputs": [
        {
          "output_type": "execute_result",
          "data": {
            "text/plain": [
              "JENIS KELAMIN       0\n",
              "STATUS MAHASISWA    0\n",
              "UMUR                0\n",
              "STATUS NIKAH        0\n",
              "IPS 1               0\n",
              "IPS 2               0\n",
              "IPS 3               0\n",
              "IPS 4               0\n",
              "IPS 5               0\n",
              "IPS 6               0\n",
              "IPS 7               0\n",
              "IPS 8               0\n",
              "IPK                 0\n",
              "STATUS KELULUSAN    0\n",
              "dtype: int64"
            ]
          },
          "metadata": {
            "tags": []
          },
          "execution_count": 81
        }
      ]
    },
    {
      "cell_type": "markdown",
      "metadata": {
        "id": "KOJtxm104-AE"
      },
      "source": [
        ">Merubah String Menjadi Int agar bisa di lakukan pemrosesan Data\n",
        "\n",
        "---"
      ]
    },
    {
      "cell_type": "code",
      "metadata": {
        "id": "4ZBF7aRleaWf"
      },
      "source": [
        "jk_mapping_values = {\"LAKI - LAKI\": 1, \"PEREMPUAN\": 0 }\n",
        "df.replace({\"JENIS KELAMIN\":jk_mapping_values}, inplace=True)\n",
        "\n",
        "status_mapping_values = {\"BEKERJA\":1, \"MAHASISWA\": 0}\n",
        "df.replace({\"STATUS MAHASISWA\":status_mapping_values}, inplace=True)\n",
        "\n",
        "\n",
        "menikah_mapping_values = {\"MENIKAH\":1, \"BELUM MENIKAH\": 0}\n",
        "df.replace({\"STATUS NIKAH\":menikah_mapping_values}, inplace=True)\n",
        "\n",
        "\n",
        "kelulusan_mapping_values = {\"TEPAT\":1, \"TERLAMBAT\": 0}\n",
        "df.replace({\"STATUS KELULUSAN\":kelulusan_mapping_values}, inplace=True)\n"
      ],
      "execution_count": 82,
      "outputs": []
    },
    {
      "cell_type": "markdown",
      "metadata": {
        "id": "1E2_fhoJ5G9Z"
      },
      "source": [
        ">Pengelompokan Data Umur \n",
        "\n",
        "---"
      ]
    },
    {
      "cell_type": "code",
      "metadata": {
        "id": "0FLYeBaKguok"
      },
      "source": [
        "df.loc[df['UMUR'] <= 25, 'UMUR'] = 0\n",
        "df.loc[(df['UMUR'] > 25) & (df['UMUR'] <= 30), 'UMUR'] = 1\n",
        "df.loc[df['UMUR'] > 30, 'UMUR'] = 2\n",
        "\n"
      ],
      "execution_count": 83,
      "outputs": []
    },
    {
      "cell_type": "markdown",
      "metadata": {
        "id": "v9SYsRO35N1F"
      },
      "source": [
        ">Cek Data Yang akan dilakukan Pemodelan\n",
        "\n",
        "---"
      ]
    },
    {
      "cell_type": "code",
      "metadata": {
        "id": "pg3EvraOhhzs",
        "colab": {
          "base_uri": "https://localhost:8080/",
          "height": 204
        },
        "outputId": "b93d02e9-b059-415b-ce9c-ecee945f74b0"
      },
      "source": [
        "df.head()"
      ],
      "execution_count": 84,
      "outputs": [
        {
          "output_type": "execute_result",
          "data": {
            "text/html": [
              "<div>\n",
              "<style scoped>\n",
              "    .dataframe tbody tr th:only-of-type {\n",
              "        vertical-align: middle;\n",
              "    }\n",
              "\n",
              "    .dataframe tbody tr th {\n",
              "        vertical-align: top;\n",
              "    }\n",
              "\n",
              "    .dataframe thead th {\n",
              "        text-align: right;\n",
              "    }\n",
              "</style>\n",
              "<table border=\"1\" class=\"dataframe\">\n",
              "  <thead>\n",
              "    <tr style=\"text-align: right;\">\n",
              "      <th></th>\n",
              "      <th>JENIS KELAMIN</th>\n",
              "      <th>STATUS MAHASISWA</th>\n",
              "      <th>UMUR</th>\n",
              "      <th>STATUS NIKAH</th>\n",
              "      <th>IPS 1</th>\n",
              "      <th>IPS 2</th>\n",
              "      <th>IPS 3</th>\n",
              "      <th>IPS 4</th>\n",
              "      <th>IPS 5</th>\n",
              "      <th>IPS 6</th>\n",
              "      <th>IPS 7</th>\n",
              "      <th>IPS 8</th>\n",
              "      <th>IPK</th>\n",
              "      <th>STATUS KELULUSAN</th>\n",
              "    </tr>\n",
              "  </thead>\n",
              "  <tbody>\n",
              "    <tr>\n",
              "      <th>0</th>\n",
              "      <td>0</td>\n",
              "      <td>1</td>\n",
              "      <td>1</td>\n",
              "      <td>0</td>\n",
              "      <td>2.76</td>\n",
              "      <td>2.80</td>\n",
              "      <td>3.20</td>\n",
              "      <td>3.17</td>\n",
              "      <td>2.98</td>\n",
              "      <td>3.00</td>\n",
              "      <td>3.03</td>\n",
              "      <td>0.0</td>\n",
              "      <td>3.07</td>\n",
              "      <td>0</td>\n",
              "    </tr>\n",
              "    <tr>\n",
              "      <th>1</th>\n",
              "      <td>0</td>\n",
              "      <td>0</td>\n",
              "      <td>2</td>\n",
              "      <td>0</td>\n",
              "      <td>3.00</td>\n",
              "      <td>3.30</td>\n",
              "      <td>3.14</td>\n",
              "      <td>3.14</td>\n",
              "      <td>2.84</td>\n",
              "      <td>3.13</td>\n",
              "      <td>3.25</td>\n",
              "      <td>0.0</td>\n",
              "      <td>3.17</td>\n",
              "      <td>0</td>\n",
              "    </tr>\n",
              "    <tr>\n",
              "      <th>2</th>\n",
              "      <td>0</td>\n",
              "      <td>1</td>\n",
              "      <td>1</td>\n",
              "      <td>0</td>\n",
              "      <td>3.50</td>\n",
              "      <td>3.30</td>\n",
              "      <td>3.70</td>\n",
              "      <td>3.29</td>\n",
              "      <td>3.53</td>\n",
              "      <td>3.72</td>\n",
              "      <td>3.73</td>\n",
              "      <td>0.0</td>\n",
              "      <td>3.54</td>\n",
              "      <td>0</td>\n",
              "    </tr>\n",
              "    <tr>\n",
              "      <th>3</th>\n",
              "      <td>0</td>\n",
              "      <td>0</td>\n",
              "      <td>1</td>\n",
              "      <td>0</td>\n",
              "      <td>3.17</td>\n",
              "      <td>3.41</td>\n",
              "      <td>3.61</td>\n",
              "      <td>3.36</td>\n",
              "      <td>3.48</td>\n",
              "      <td>3.63</td>\n",
              "      <td>3.46</td>\n",
              "      <td>0.0</td>\n",
              "      <td>3.41</td>\n",
              "      <td>0</td>\n",
              "    </tr>\n",
              "    <tr>\n",
              "      <th>4</th>\n",
              "      <td>0</td>\n",
              "      <td>1</td>\n",
              "      <td>1</td>\n",
              "      <td>0</td>\n",
              "      <td>2.90</td>\n",
              "      <td>2.89</td>\n",
              "      <td>3.30</td>\n",
              "      <td>2.85</td>\n",
              "      <td>2.98</td>\n",
              "      <td>3.00</td>\n",
              "      <td>3.08</td>\n",
              "      <td>0.0</td>\n",
              "      <td>3.09</td>\n",
              "      <td>0</td>\n",
              "    </tr>\n",
              "  </tbody>\n",
              "</table>\n",
              "</div>"
            ],
            "text/plain": [
              "   JENIS KELAMIN  STATUS MAHASISWA  UMUR  ...  IPS 8  IPK   STATUS KELULUSAN\n",
              "0              0                 1     1  ...    0.0  3.07                 0\n",
              "1              0                 0     2  ...    0.0  3.17                 0\n",
              "2              0                 1     1  ...    0.0  3.54                 0\n",
              "3              0                 0     1  ...    0.0  3.41                 0\n",
              "4              0                 1     1  ...    0.0  3.09                 0\n",
              "\n",
              "[5 rows x 14 columns]"
            ]
          },
          "metadata": {
            "tags": []
          },
          "execution_count": 84
        }
      ]
    },
    {
      "cell_type": "markdown",
      "metadata": {
        "id": "VWOXBAWY5cH1"
      },
      "source": [
        ">Pembuatan Variable X sebagai Feature Data \n",
        "\n",
        "---"
      ]
    },
    {
      "cell_type": "code",
      "metadata": {
        "id": "1JDpmO8aip3d"
      },
      "source": [
        "x = df.drop(\"STATUS KELULUSAN\", axis=1)"
      ],
      "execution_count": 85,
      "outputs": []
    },
    {
      "cell_type": "markdown",
      "metadata": {
        "id": "yqrzPHfM5kZl"
      },
      "source": [
        ">Pembuatan Variable Y sebagai Label Data  yaitu \"STATUS KELULUSAN\"\n",
        "\n",
        "---"
      ]
    },
    {
      "cell_type": "code",
      "metadata": {
        "id": "GaG0YW-UizdG"
      },
      "source": [
        "y = df[\"STATUS KELULUSAN\"]"
      ],
      "execution_count": 86,
      "outputs": []
    },
    {
      "cell_type": "markdown",
      "metadata": {
        "id": "UxOHu19KAJYb"
      },
      "source": [
        "Split Data Training dan Test\n"
      ]
    },
    {
      "cell_type": "code",
      "metadata": {
        "id": "yfro4qMcAOOa"
      },
      "source": [
        "from sklearn.model_selection import train_test_split\n",
        "\n",
        "x_train, x_test, y_train, y_test = train_test_split(x, y, test_size = 0.25, random_state=42)"
      ],
      "execution_count": 87,
      "outputs": []
    },
    {
      "cell_type": "code",
      "metadata": {
        "colab": {
          "base_uri": "https://localhost:8080/"
        },
        "id": "ZrvkiBhWjMP1",
        "outputId": "95af7010-c150-415b-a7fc-e6224c1f3a16"
      },
      "source": [
        "from sklearn.neighbors import KNeighborsClassifier\r\n",
        "knn = KNeighborsClassifier(n_neighbors = 2)  # n_neighbors means k\r\n",
        "knn.fit(x_train, y_train)\r\n",
        "prediction = knn.predict(x_test)\r\n",
        "\r\n",
        "print(\"{} NN Score: {:.2f}%\".format(2, knn.score(x_test, y_test)*100))"
      ],
      "execution_count": 88,
      "outputs": [
        {
          "output_type": "stream",
          "text": [
            "2 NN Score: 92.63%\n"
          ],
          "name": "stdout"
        }
      ]
    },
    {
      "cell_type": "code",
      "metadata": {
        "colab": {
          "base_uri": "https://localhost:8080/",
          "height": 296
        },
        "id": "8vvx9JK9jlq1",
        "outputId": "f452b340-72f4-453f-f82c-99ebbe36ad3f"
      },
      "source": [
        "scoreList = []\r\n",
        "accuracies = {}\r\n",
        "for i in range(1,20):\r\n",
        "    knn2 = KNeighborsClassifier(n_neighbors = i)  # n_neighbors means k\r\n",
        "    knn2.fit(x_train, y_train)\r\n",
        "    scoreList.append(knn2.score(x_test, y_test))\r\n",
        "    \r\n",
        "plt.plot(range(1,20), scoreList)\r\n",
        "plt.xticks(np.arange(1,20,1))\r\n",
        "plt.xlabel(\"K value\")\r\n",
        "plt.ylabel(\"Score\")\r\n",
        "plt.show()\r\n",
        "\r\n",
        "acc = max(scoreList)*100\r\n",
        "accuracies['KNN'] = acc\r\n",
        "print(\"Maximum KNN Score is {:.2f}%\".format(acc))"
      ],
      "execution_count": 89,
      "outputs": [
        {
          "output_type": "display_data",
          "data": {
            "image/png": "[encoded data removed]",
            "text/plain": [
              "<Figure size 432x288 with 1 Axes>"
            ]
          },
          "metadata": {
            "tags": [],
            "needs_background": "light"
          }
        },
        {
          "output_type": "stream",
          "text": [
            "Maximum KNN Score is 92.63%\n"
          ],
          "name": "stdout"
        }
      ]
    }
  ]
}